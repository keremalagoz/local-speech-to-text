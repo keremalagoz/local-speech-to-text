{
 "cells": [
  {
   "cell_type": "code",
   "execution_count": null,
   "id": "62446e88",
   "metadata": {},
   "outputs": [],
   "source": [
    "import whisper"
   ]
  },
  {
   "cell_type": "markdown",
   "id": "26046ac5",
   "metadata": {},
   "source": [
    "The models are downloaded to the folder C:\\Users\\[Your username]\\.cache\\whisper. Don't forget to put your '.pt' files in a separate folder and add them to your project."
   ]
  },
  {
   "cell_type": "code",
   "execution_count": null,
   "id": "f519ef3d",
   "metadata": {},
   "outputs": [],
   "source": [
    "#for tiny model\n",
    "model = whisper.load_model(\"tiny\")"
   ]
  },
  {
   "cell_type": "code",
   "execution_count": null,
   "id": "1c364990",
   "metadata": {},
   "outputs": [],
   "source": [
    "#for base model\n",
    "model = whisper.load_model(\"base\")"
   ]
  },
  {
   "cell_type": "code",
   "execution_count": null,
   "id": "513c7781",
   "metadata": {},
   "outputs": [],
   "source": [
    "#for small model\n",
    "model = whisper.load_model(\"small\")"
   ]
  },
  {
   "cell_type": "code",
   "execution_count": null,
   "id": "9fdf28ea",
   "metadata": {},
   "outputs": [],
   "source": [
    "#for medium model:\n",
    "model = whisper.load_model(\"medium\")"
   ]
  },
  {
   "cell_type": "code",
   "execution_count": null,
   "id": "960a39b8",
   "metadata": {},
   "outputs": [],
   "source": [
    "#for large model\n",
    "model = whisper.load_model(\"large\")"
   ]
  },
  {
   "cell_type": "code",
   "execution_count": null,
   "id": "991b7c65",
   "metadata": {},
   "outputs": [],
   "source": [
    "#for turbo model\n",
    "model = whisper.load_model(\"turbo\")"
   ]
  }
 ],
 "metadata": {
  "language_info": {
   "name": "python"
  }
 },
 "nbformat": 4,
 "nbformat_minor": 5
}
